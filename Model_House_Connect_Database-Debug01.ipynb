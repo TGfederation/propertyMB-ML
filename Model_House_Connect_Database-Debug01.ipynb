{
 "cells": [
  {
   "cell_type": "markdown",
   "metadata": {},
   "source": [
    "# Environment conda3--python3\n",
    "## Coding UTF-8\n",
    "### Import Libraries"
   ]
  },
  {
   "cell_type": "code",
   "execution_count": 1,
   "metadata": {},
   "outputs": [
    {
     "name": "stdout",
     "output_type": "stream",
     "text": [
      "Python: 3.7.7 (default, May  6 2020, 11:45:54) [MSC v.1916 64 bit (AMD64)]\n",
      "pandas: 1.0.3\n",
      "numpy: 1.18.1\n",
      "connector: 8.0.18\n"
     ]
    }
   ],
   "source": [
    "import sys\n",
    "print(\"Python: {}\".format(sys.version))\n",
    "import pandas as pd\n",
    "print(\"pandas: {}\".format(pd.__version__))\n",
    "import numpy as np\n",
    "print(\"numpy: {}\".format(np.__version__))\n",
    "import mysql.connector\n",
    "print(\"connector: {}\".format(mysql.connector.__version__))"
   ]
  },
  {
   "cell_type": "markdown",
   "metadata": {},
   "source": [
    "### Connect to Database"
   ]
  },
  {
   "cell_type": "code",
   "execution_count": 2,
   "metadata": {},
   "outputs": [
    {
     "name": "stdout",
     "output_type": "stream",
     "text": [
      "Connected to MySQL Server version:  5.5.5-10.2.31-MariaDB\n",
      "You'r connected to the database:  ('u656477047_ppmb',)\n"
     ]
    }
   ],
   "source": [
    "#connect to database\n",
    "con = mysql.connector.connect(\n",
    "    host = \"156.67.222.148\",\n",
    "    user = \"u656477047_user\",\n",
    "    password = \"tar15234\",\n",
    "    database = \"u656477047_ppmb\",\n",
    "    port = \"3306\"\n",
    ")\n",
    "\n",
    "if con.is_connected():\n",
    "    db_Info = con.get_server_info()\n",
    "    print(\"Connected to MySQL Server version: \", db_Info)\n",
    "    #cursor\n",
    "    cur = con.cursor()\n",
    "    cur.execute(\"select database();\")\n",
    "    record = cur.fetchone()\n",
    "    print(\"You\\'r connected to the database: \", record)"
   ]
  },
  {
   "cell_type": "markdown",
   "metadata": {},
   "source": [
    "### Execute the Query"
   ]
  },
  {
   "cell_type": "code",
   "execution_count": 3,
   "metadata": {},
   "outputs": [
    {
     "name": "stdout",
     "output_type": "stream",
     "text": [
      "\n",
      "MySQL connection is closed\n",
      "\n"
     ]
    }
   ],
   "source": [
    "SQL_Query_House = pd.read_sql_query(\n",
    "    \"SELECT ID_Property,PropertyType,CostestimateB,SellPrice,MarketPrice,AsseStatus,RoadType,HouseArea,Floor,HomeCondition,BuildingAge FROM propertys WHERE ID_Property='c0205'\", con)\n",
    "df_house = pd.DataFrame(SQL_Query_House)\n",
    "\n",
    "if (con.is_connected()):\n",
    "        #close the cursor\n",
    "        cur.close()\n",
    "        #close the connection\n",
    "        con.close()\n",
    "        print()\n",
    "        print(\"MySQL connection is closed\")\n",
    "        print()"
   ]
  },
  {
   "cell_type": "markdown",
   "metadata": {},
   "source": [
    "### Clean Data --Land_Dataset"
   ]
  },
  {
   "cell_type": "code",
   "execution_count": 4,
   "metadata": {},
   "outputs": [
    {
     "data": {
      "text/html": [
       "<div>\n",
       "<style scoped>\n",
       "    .dataframe tbody tr th:only-of-type {\n",
       "        vertical-align: middle;\n",
       "    }\n",
       "\n",
       "    .dataframe tbody tr th {\n",
       "        vertical-align: top;\n",
       "    }\n",
       "\n",
       "    .dataframe thead th {\n",
       "        text-align: right;\n",
       "    }\n",
       "</style>\n",
       "<table border=\"1\" class=\"dataframe\">\n",
       "  <thead>\n",
       "    <tr style=\"text-align: right;\">\n",
       "      <th></th>\n",
       "      <th>ID_Property</th>\n",
       "      <th>PropertyType</th>\n",
       "      <th>CostestimateB</th>\n",
       "      <th>SellPrice</th>\n",
       "      <th>MarketPrice</th>\n",
       "      <th>AsseStatus</th>\n",
       "      <th>RoadType</th>\n",
       "      <th>HouseArea</th>\n",
       "      <th>Floor</th>\n",
       "      <th>HomeCondition</th>\n",
       "      <th>BuildingAge</th>\n",
       "    </tr>\n",
       "  </thead>\n",
       "  <tbody>\n",
       "    <tr>\n",
       "      <th>0</th>\n",
       "      <td>c0205</td>\n",
       "      <td>คอนโด</td>\n",
       "      <td>1300000</td>\n",
       "      <td>1430000</td>\n",
       "      <td>1700000</td>\n",
       "      <td>ว่าง</td>\n",
       "      <td>คอนกรีต</td>\n",
       "      <td>34.0</td>\n",
       "      <td>5</td>\n",
       "      <td>มือสอง</td>\n",
       "      <td>11</td>\n",
       "    </tr>\n",
       "  </tbody>\n",
       "</table>\n",
       "</div>"
      ],
      "text/plain": [
       "  ID_Property PropertyType  CostestimateB  SellPrice  MarketPrice AsseStatus  \\\n",
       "0       c0205        คอนโด        1300000    1430000      1700000       ว่าง   \n",
       "\n",
       "  RoadType  HouseArea Floor HomeCondition BuildingAge  \n",
       "0  คอนกรีต       34.0     5        มือสอง          11  "
      ]
     },
     "execution_count": 4,
     "metadata": {},
     "output_type": "execute_result"
    }
   ],
   "source": [
    "# show example data from loaded file\n",
    "df_house"
   ]
  },
  {
   "cell_type": "markdown",
   "metadata": {},
   "source": [
    "#### Drop Rows with missing Values"
   ]
  },
  {
   "cell_type": "code",
   "execution_count": 5,
   "metadata": {},
   "outputs": [
    {
     "data": {
      "text/html": [
       "<div>\n",
       "<style scoped>\n",
       "    .dataframe tbody tr th:only-of-type {\n",
       "        vertical-align: middle;\n",
       "    }\n",
       "\n",
       "    .dataframe tbody tr th {\n",
       "        vertical-align: top;\n",
       "    }\n",
       "\n",
       "    .dataframe thead th {\n",
       "        text-align: right;\n",
       "    }\n",
       "</style>\n",
       "<table border=\"1\" class=\"dataframe\">\n",
       "  <thead>\n",
       "    <tr style=\"text-align: right;\">\n",
       "      <th></th>\n",
       "      <th>ID_Property</th>\n",
       "      <th>PropertyType</th>\n",
       "      <th>CostestimateB</th>\n",
       "      <th>SellPrice</th>\n",
       "      <th>MarketPrice</th>\n",
       "      <th>AsseStatus</th>\n",
       "      <th>RoadType</th>\n",
       "      <th>HouseArea</th>\n",
       "      <th>Floor</th>\n",
       "      <th>HomeCondition</th>\n",
       "      <th>BuildingAge</th>\n",
       "    </tr>\n",
       "  </thead>\n",
       "  <tbody>\n",
       "    <tr>\n",
       "      <th>0</th>\n",
       "      <td>c0205</td>\n",
       "      <td>คอนโด</td>\n",
       "      <td>1300000</td>\n",
       "      <td>1430000</td>\n",
       "      <td>1700000</td>\n",
       "      <td>ว่าง</td>\n",
       "      <td>คอนกรีต</td>\n",
       "      <td>34.0</td>\n",
       "      <td>5</td>\n",
       "      <td>มือสอง</td>\n",
       "      <td>11</td>\n",
       "    </tr>\n",
       "  </tbody>\n",
       "</table>\n",
       "</div>"
      ],
      "text/plain": [
       "  ID_Property PropertyType  CostestimateB  SellPrice  MarketPrice AsseStatus  \\\n",
       "0       c0205        คอนโด        1300000    1430000      1700000       ว่าง   \n",
       "\n",
       "  RoadType  HouseArea Floor HomeCondition BuildingAge  \n",
       "0  คอนกรีต       34.0     5        มือสอง          11  "
      ]
     },
     "execution_count": 5,
     "metadata": {},
     "output_type": "execute_result"
    }
   ],
   "source": [
    "df_house = df_house.dropna(axis='rows')\n",
    "df_house"
   ]
  },
  {
   "cell_type": "markdown",
   "metadata": {},
   "source": [
    "#### Change String to Numeric Value"
   ]
  },
  {
   "cell_type": "code",
   "execution_count": 6,
   "metadata": {},
   "outputs": [],
   "source": [
    "from sklearn.preprocessing import LabelEncoder\n",
    "\n",
    "# encoding string values into numeric values\n",
    "le_propTy = LabelEncoder()\n",
    "le_asseSt = LabelEncoder()\n",
    "le_homeCon = LabelEncoder()\n",
    "le_roadTy = LabelEncoder()"
   ]
  },
  {
   "cell_type": "code",
   "execution_count": 7,
   "metadata": {},
   "outputs": [
    {
     "data": {
      "text/html": [
       "<div>\n",
       "<style scoped>\n",
       "    .dataframe tbody tr th:only-of-type {\n",
       "        vertical-align: middle;\n",
       "    }\n",
       "\n",
       "    .dataframe tbody tr th {\n",
       "        vertical-align: top;\n",
       "    }\n",
       "\n",
       "    .dataframe thead th {\n",
       "        text-align: right;\n",
       "    }\n",
       "</style>\n",
       "<table border=\"1\" class=\"dataframe\">\n",
       "  <thead>\n",
       "    <tr style=\"text-align: right;\">\n",
       "      <th></th>\n",
       "      <th>ID_Property</th>\n",
       "      <th>PropertyType</th>\n",
       "      <th>CostestimateB</th>\n",
       "      <th>SellPrice</th>\n",
       "      <th>MarketPrice</th>\n",
       "      <th>AsseStatus</th>\n",
       "      <th>RoadType</th>\n",
       "      <th>HouseArea</th>\n",
       "      <th>Floor</th>\n",
       "      <th>HomeCondition</th>\n",
       "      <th>BuildingAge</th>\n",
       "      <th>PropertyType_n</th>\n",
       "      <th>AsseStatus_n</th>\n",
       "      <th>HomeCondition_n</th>\n",
       "      <th>RoadType_n</th>\n",
       "    </tr>\n",
       "  </thead>\n",
       "  <tbody>\n",
       "    <tr>\n",
       "      <th>0</th>\n",
       "      <td>c0205</td>\n",
       "      <td>คอนโด</td>\n",
       "      <td>1300000</td>\n",
       "      <td>1430000</td>\n",
       "      <td>1700000</td>\n",
       "      <td>ว่าง</td>\n",
       "      <td>คอนกรีต</td>\n",
       "      <td>34.0</td>\n",
       "      <td>5</td>\n",
       "      <td>มือสอง</td>\n",
       "      <td>11</td>\n",
       "      <td>0</td>\n",
       "      <td>0</td>\n",
       "      <td>0</td>\n",
       "      <td>0</td>\n",
       "    </tr>\n",
       "  </tbody>\n",
       "</table>\n",
       "</div>"
      ],
      "text/plain": [
       "  ID_Property PropertyType  CostestimateB  SellPrice  MarketPrice AsseStatus  \\\n",
       "0       c0205        คอนโด        1300000    1430000      1700000       ว่าง   \n",
       "\n",
       "  RoadType  HouseArea Floor HomeCondition BuildingAge  PropertyType_n  \\\n",
       "0  คอนกรีต       34.0     5        มือสอง          11               0   \n",
       "\n",
       "   AsseStatus_n  HomeCondition_n  RoadType_n  \n",
       "0             0                0           0  "
      ]
     },
     "execution_count": 7,
     "metadata": {},
     "output_type": "execute_result"
    }
   ],
   "source": [
    "# create new columns containing numeric code of former column\n",
    "df_house['PropertyType_n'] = le_propTy.fit_transform(df_house['PropertyType'])\n",
    "df_house['AsseStatus_n'] = le_asseSt.fit_transform(df_house['AsseStatus'])\n",
    "df_house['HomeCondition_n'] = le_homeCon.fit_transform(df_house['HomeCondition'])\n",
    "df_house['RoadType_n'] = le_roadTy.fit_transform(df_house['RoadType'])\n",
    "df_house"
   ]
  },
  {
   "cell_type": "markdown",
   "metadata": {},
   "source": [
    "### Seperate ID_Property from Dataframe before Model Implementation"
   ]
  },
  {
   "cell_type": "code",
   "execution_count": 8,
   "metadata": {},
   "outputs": [
    {
     "data": {
      "text/html": [
       "<div>\n",
       "<style scoped>\n",
       "    .dataframe tbody tr th:only-of-type {\n",
       "        vertical-align: middle;\n",
       "    }\n",
       "\n",
       "    .dataframe tbody tr th {\n",
       "        vertical-align: top;\n",
       "    }\n",
       "\n",
       "    .dataframe thead th {\n",
       "        text-align: right;\n",
       "    }\n",
       "</style>\n",
       "<table border=\"1\" class=\"dataframe\">\n",
       "  <thead>\n",
       "    <tr style=\"text-align: right;\">\n",
       "      <th></th>\n",
       "      <th>ID_Property</th>\n",
       "    </tr>\n",
       "  </thead>\n",
       "  <tbody>\n",
       "    <tr>\n",
       "      <th>0</th>\n",
       "      <td>c0205</td>\n",
       "    </tr>\n",
       "  </tbody>\n",
       "</table>\n",
       "</div>"
      ],
      "text/plain": [
       "  ID_Property\n",
       "0       c0205"
      ]
     },
     "execution_count": 8,
     "metadata": {},
     "output_type": "execute_result"
    }
   ],
   "source": [
    "ID_Property = df_house[['ID_Property']]\n",
    "ID_Property"
   ]
  },
  {
   "cell_type": "markdown",
   "metadata": {},
   "source": [
    "### Select Columns that are used as Variables in Model"
   ]
  },
  {
   "cell_type": "code",
   "execution_count": 9,
   "metadata": {},
   "outputs": [
    {
     "data": {
      "text/html": [
       "<div>\n",
       "<style scoped>\n",
       "    .dataframe tbody tr th:only-of-type {\n",
       "        vertical-align: middle;\n",
       "    }\n",
       "\n",
       "    .dataframe tbody tr th {\n",
       "        vertical-align: top;\n",
       "    }\n",
       "\n",
       "    .dataframe thead th {\n",
       "        text-align: right;\n",
       "    }\n",
       "</style>\n",
       "<table border=\"1\" class=\"dataframe\">\n",
       "  <thead>\n",
       "    <tr style=\"text-align: right;\">\n",
       "      <th></th>\n",
       "      <th>PropertyType_n</th>\n",
       "      <th>SellPrice</th>\n",
       "      <th>CostestimateB</th>\n",
       "      <th>MarketPrice</th>\n",
       "      <th>HouseArea</th>\n",
       "      <th>Floor</th>\n",
       "      <th>HomeCondition_n</th>\n",
       "      <th>BuildingAge</th>\n",
       "      <th>RoadType_n</th>\n",
       "      <th>AsseStatus_n</th>\n",
       "    </tr>\n",
       "  </thead>\n",
       "  <tbody>\n",
       "    <tr>\n",
       "      <th>0</th>\n",
       "      <td>0</td>\n",
       "      <td>1430000</td>\n",
       "      <td>1300000</td>\n",
       "      <td>1700000</td>\n",
       "      <td>34.0</td>\n",
       "      <td>5</td>\n",
       "      <td>0</td>\n",
       "      <td>11</td>\n",
       "      <td>0</td>\n",
       "      <td>0</td>\n",
       "    </tr>\n",
       "  </tbody>\n",
       "</table>\n",
       "</div>"
      ],
      "text/plain": [
       "   PropertyType_n  SellPrice  CostestimateB  MarketPrice  HouseArea Floor  \\\n",
       "0               0    1430000        1300000      1700000       34.0     5   \n",
       "\n",
       "   HomeCondition_n BuildingAge  RoadType_n  AsseStatus_n  \n",
       "0                0          11           0             0  "
      ]
     },
     "execution_count": 9,
     "metadata": {},
     "output_type": "execute_result"
    }
   ],
   "source": [
    "df_house_select = df_house[['PropertyType_n', 'SellPrice', 'CostestimateB','MarketPrice', 'HouseArea', 'Floor', 'HomeCondition_n', 'BuildingAge','RoadType_n','AsseStatus_n']]\n",
    "df_house_select"
   ]
  },
  {
   "cell_type": "code",
   "execution_count": 10,
   "metadata": {},
   "outputs": [],
   "source": [
    "df_export = df_house.to_csv(r'E:\\Dataset\\df_house_debug01_export.txt', index=False)"
   ]
  },
  {
   "cell_type": "markdown",
   "metadata": {},
   "source": [
    "### Import Decision Tree Model"
   ]
  },
  {
   "cell_type": "code",
   "execution_count": 26,
   "metadata": {},
   "outputs": [
    {
     "name": "stdout",
     "output_type": "stream",
     "text": [
      "4.0\n"
     ]
    },
    {
     "data": {
      "text/plain": [
       "<function BufferedReader.close>"
      ]
     },
     "execution_count": 26,
     "metadata": {},
     "output_type": "execute_result"
    }
   ],
   "source": [
    "import pickle\n",
    "print(pickle.format_version)\n",
    "readdict_file = open('E:\\Model\\Model_Pickle_giniHouse_V03.pkl', 'rb')\n",
    "classification_dict = pickle.load(readdict_file)\n",
    "readdict_file.close\n",
    "\n",
    "#loaded_model_house = pickle.load(open('E:\\Model\\Model_Pickle_giniHouse_V03.pkl','rb'))\n",
    "#loaded_model_house = pickle.load(open(\"E:\\Model\\Model_Pickle_giniHouse_V02\", 'rb'))"
   ]
  },
  {
   "cell_type": "markdown",
   "metadata": {},
   "source": [
    "### Make Predictions with the Dataframe & Model"
   ]
  },
  {
   "cell_type": "code",
   "execution_count": 12,
   "metadata": {},
   "outputs": [
    {
     "data": {
      "text/plain": [
       "array([0])"
      ]
     },
     "execution_count": 12,
     "metadata": {},
     "output_type": "execute_result"
    }
   ],
   "source": [
    "house_prediction = classification_dict.predict(df_house_select)\n",
    "house_prediction"
   ]
  },
  {
   "cell_type": "code",
   "execution_count": 13,
   "metadata": {},
   "outputs": [
    {
     "data": {
      "text/html": [
       "<div>\n",
       "<style scoped>\n",
       "    .dataframe tbody tr th:only-of-type {\n",
       "        vertical-align: middle;\n",
       "    }\n",
       "\n",
       "    .dataframe tbody tr th {\n",
       "        vertical-align: top;\n",
       "    }\n",
       "\n",
       "    .dataframe thead th {\n",
       "        text-align: right;\n",
       "    }\n",
       "</style>\n",
       "<table border=\"1\" class=\"dataframe\">\n",
       "  <thead>\n",
       "    <tr style=\"text-align: right;\">\n",
       "      <th></th>\n",
       "      <th>UserType</th>\n",
       "    </tr>\n",
       "  </thead>\n",
       "  <tbody>\n",
       "    <tr>\n",
       "      <th>0</th>\n",
       "      <td>0</td>\n",
       "    </tr>\n",
       "  </tbody>\n",
       "</table>\n",
       "</div>"
      ],
      "text/plain": [
       "   UserType\n",
       "0         0"
      ]
     },
     "execution_count": 13,
     "metadata": {},
     "output_type": "execute_result"
    }
   ],
   "source": [
    "dataframe = pd.DataFrame(house_prediction, columns=['UserType']) \n",
    "dataframe"
   ]
  },
  {
   "cell_type": "code",
   "execution_count": 14,
   "metadata": {},
   "outputs": [
    {
     "data": {
      "text/html": [
       "<div>\n",
       "<style scoped>\n",
       "    .dataframe tbody tr th:only-of-type {\n",
       "        vertical-align: middle;\n",
       "    }\n",
       "\n",
       "    .dataframe tbody tr th {\n",
       "        vertical-align: top;\n",
       "    }\n",
       "\n",
       "    .dataframe thead th {\n",
       "        text-align: right;\n",
       "    }\n",
       "</style>\n",
       "<table border=\"1\" class=\"dataframe\">\n",
       "  <thead>\n",
       "    <tr style=\"text-align: right;\">\n",
       "      <th></th>\n",
       "      <th>UserType</th>\n",
       "    </tr>\n",
       "  </thead>\n",
       "  <tbody>\n",
       "    <tr>\n",
       "      <th>0</th>\n",
       "      <td>0</td>\n",
       "    </tr>\n",
       "  </tbody>\n",
       "</table>\n",
       "</div>"
      ],
      "text/plain": [
       "  UserType\n",
       "0        0"
      ]
     },
     "execution_count": 14,
     "metadata": {},
     "output_type": "execute_result"
    }
   ],
   "source": [
    "dataframe['UserType'] = np.where((dataframe.UserType==1),'Short-Term',dataframe.UserType)\n",
    "dataframe"
   ]
  },
  {
   "cell_type": "code",
   "execution_count": 15,
   "metadata": {},
   "outputs": [],
   "source": [
    "dataframe = dataframe['UserType'].replace(to_replace=['0'], value='Long-Term')"
   ]
  },
  {
   "cell_type": "code",
   "execution_count": 16,
   "metadata": {},
   "outputs": [
    {
     "data": {
      "text/html": [
       "<div>\n",
       "<style scoped>\n",
       "    .dataframe tbody tr th:only-of-type {\n",
       "        vertical-align: middle;\n",
       "    }\n",
       "\n",
       "    .dataframe tbody tr th {\n",
       "        vertical-align: top;\n",
       "    }\n",
       "\n",
       "    .dataframe thead th {\n",
       "        text-align: right;\n",
       "    }\n",
       "</style>\n",
       "<table border=\"1\" class=\"dataframe\">\n",
       "  <thead>\n",
       "    <tr style=\"text-align: right;\">\n",
       "      <th></th>\n",
       "      <th>UserType</th>\n",
       "    </tr>\n",
       "  </thead>\n",
       "  <tbody>\n",
       "    <tr>\n",
       "      <th>0</th>\n",
       "      <td>Long-Term</td>\n",
       "    </tr>\n",
       "  </tbody>\n",
       "</table>\n",
       "</div>"
      ],
      "text/plain": [
       "    UserType\n",
       "0  Long-Term"
      ]
     },
     "execution_count": 16,
     "metadata": {},
     "output_type": "execute_result"
    }
   ],
   "source": [
    "df = pd.DataFrame(dataframe)\n",
    "df"
   ]
  },
  {
   "cell_type": "code",
   "execution_count": 18,
   "metadata": {},
   "outputs": [
    {
     "name": "stdout",
     "output_type": "stream",
     "text": [
      "Connected to MySQL Server version:  5.5.5-10.2.31-MariaDB\n",
      "You'r connected to the database:  ('u656477047_ppmb',)\n"
     ]
    }
   ],
   "source": [
    "#connect to database\n",
    "con = mysql.connector.connect(\n",
    "    host = \"156.67.222.148\",\n",
    "    user = \"u656477047_user\",\n",
    "    password = \"tar15234\",\n",
    "    database = \"u656477047_ppmb\",\n",
    "    port = \"3306\"\n",
    ")\n",
    "\n",
    "if con.is_connected():\n",
    "    db_Info = con.get_server_info()\n",
    "    print(\"Connected to MySQL Server version: \", db_Info)\n",
    "    #cursor\n",
    "    cur = con.cursor()\n",
    "    cur.execute(\"select database();\")\n",
    "    record = cur.fetchone()\n",
    "    print(\"You\\'r connected to the database: \", record)"
   ]
  },
  {
   "cell_type": "code",
   "execution_count": 19,
   "metadata": {},
   "outputs": [
    {
     "name": "stdout",
     "output_type": "stream",
     "text": [
      "Index:  0 Value:  Long-Term ID_P : c0205\n"
     ]
    }
   ],
   "source": [
    "for x,y in df_concat.iterrows():\n",
    "    mycursor = con.cursor()\n",
    "    cur.execute('''UPDATE propertys SET UserType =%s WHERE ID_Property=%s''', (y.UserType, y.ID_Property))\n",
    "    con.commit()\n",
    "    print('Index: ', x, 'Value: ', y.UserType, 'ID_P :',y.ID_Property)"
   ]
  },
  {
   "cell_type": "code",
   "execution_count": 20,
   "metadata": {},
   "outputs": [
    {
     "name": "stdout",
     "output_type": "stream",
     "text": [
      "\n",
      "MySQL connection is closed\n",
      "\n"
     ]
    }
   ],
   "source": [
    "if (con.is_connected()):\n",
    "        #commit the transaction when changes made to database\n",
    "        con.commit()\n",
    "        #close the cursor\n",
    "        cur.close()\n",
    "        #close the connection\n",
    "        con.close()\n",
    "        print()\n",
    "        print(\"MySQL connection is closed\")\n",
    "        print()"
   ]
  },
  {
   "cell_type": "code",
   "execution_count": null,
   "metadata": {},
   "outputs": [],
   "source": []
  }
 ],
 "metadata": {
  "kernelspec": {
   "display_name": "Python 3",
   "language": "python",
   "name": "python3"
  },
  "language_info": {
   "codemirror_mode": {
    "name": "ipython",
    "version": 3
   },
   "file_extension": ".py",
   "mimetype": "text/x-python",
   "name": "python",
   "nbconvert_exporter": "python",
   "pygments_lexer": "ipython3",
   "version": "3.7.7"
  }
 },
 "nbformat": 4,
 "nbformat_minor": 4
}
